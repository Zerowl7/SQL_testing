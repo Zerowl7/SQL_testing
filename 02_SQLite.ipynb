{
  "nbformat": 4,
  "nbformat_minor": 0,
  "metadata": {
    "colab": {
      "name": "01_SQLite.ipynb",
      "provenance": [],
      "authorship_tag": "ABX9TyOlacHpEFUDDHRQINtLLk15",
      "include_colab_link": true
    },
    "kernelspec": {
      "name": "python3",
      "display_name": "Python 3"
    },
    "language_info": {
      "name": "python"
    }
  },
  "cells": [
    {
      "cell_type": "markdown",
      "metadata": {
        "id": "view-in-github",
        "colab_type": "text"
      },
      "source": [
        "<a href=\"https://colab.research.google.com/github/Zerowl7/SQL_testing/blob/main/02_SQLite.ipynb\" target=\"_parent\"><img src=\"https://colab.research.google.com/assets/colab-badge.svg\" alt=\"Open In Colab\"/></a>"
      ]
    },
    {
      "cell_type": "markdown",
      "source": [
        "# Соединение"
      ],
      "metadata": {
        "id": "t3pD-0szPnIa"
      }
    },
    {
      "cell_type": "code",
      "execution_count": 1,
      "metadata": {
        "colab": {
          "base_uri": "https://localhost:8080/"
        },
        "id": "3aQ83ocYNWS6",
        "outputId": "c332d863-6f88-477b-d331-75f7f25b995f"
      },
      "outputs": [
        {
          "output_type": "stream",
          "name": "stdout",
          "text": [
            "Mounted at /content/drive\n"
          ]
        }
      ],
      "source": [
        "from google.colab import drive\n",
        "drive.mount('/content/drive')"
      ]
    },
    {
      "cell_type": "code",
      "source": [
        "import sqlite3"
      ],
      "metadata": {
        "id": "SzDAOuVHNgek"
      },
      "execution_count": 2,
      "outputs": []
    },
    {
      "cell_type": "code",
      "source": [
        "path = \"./drive/My Drive/databases/mydatabase.db\""
      ],
      "metadata": {
        "id": "cr9nLwhmNxxy"
      },
      "execution_count": 3,
      "outputs": []
    },
    {
      "cell_type": "code",
      "source": [
        "conn = sqlite3.connect(path)"
      ],
      "metadata": {
        "id": "X6JoJYCQOTfL"
      },
      "execution_count": 4,
      "outputs": []
    },
    {
      "cell_type": "markdown",
      "source": [
        "# Создание таблицы"
      ],
      "metadata": {
        "id": "HVaMmyIAP1EJ"
      }
    },
    {
      "cell_type": "code",
      "source": [
        "# Создаем объект типа cursor для доступа к данным\n",
        "cursor = conn.cursor()\n",
        "# Создание простейшей таблицы, все поля (столбцы) которой имеют тип text\n",
        "cursor.execute(\"CREATE TABLE albums (title text, artist text, release_date text, publisher text, media_type text)\")\n",
        "\n",
        "\n",
        "# Подтверждаем изменения (обязательно)\n",
        "conn.commit()\n",
        "# Закрываем курсор\n",
        "cursor.close()\n",
        "# Закрываем соединение (рекомендуется)\n",
        "conn.close()"
      ],
      "metadata": {
        "id": "pYGYV2uxOiC2"
      },
      "execution_count": 5,
      "outputs": []
    },
    {
      "cell_type": "markdown",
      "source": [
        "# Заполнение данных"
      ],
      "metadata": {
        "id": "LBYd3SvXQDlc"
      }
    },
    {
      "cell_type": "code",
      "source": [
        "conn = sqlite3.connect(path)\n",
        "cursor = conn.cursor()\n",
        "\n",
        "sql  = \"INSERT INTO albums VALUES (?, ?, ?, ?, ?)\"\n",
        "val1 = (\"The Serpen't Egg\", \"Dead Can Dance\", \"1988\", \"4AD\", \"CD\")\n",
        "val2 = (\"Everyday Is Christmas\", \"SIA\", \"2017\", \"Atlantic\", \"CD\")\n",
        "\n",
        "\n",
        "cursor.execute(sql, val1)\n",
        "cursor.execute(sql, val2)\n",
        "\n",
        "conn.commit()\n",
        "cursor.close()\n",
        "conn.close()"
      ],
      "metadata": {
        "id": "S5Rpq4AiOmRe"
      },
      "execution_count": 6,
      "outputs": []
    },
    {
      "cell_type": "markdown",
      "source": [
        "# Написание запроса"
      ],
      "metadata": {
        "id": "2Y8pJtJ-QLh9"
      }
    },
    {
      "cell_type": "code",
      "source": [
        "conn = sqlite3.connect(path)\n",
        "cursor = conn.cursor()\n",
        "\n",
        "sql  = \"SELECT artist, title, release_date from albums\"\n",
        "cursor.execute(sql)\n",
        "\n",
        "for i in cursor:\n",
        "    print(i)\n",
        "\n",
        "cursor.close()\n",
        "conn.close()"
      ],
      "metadata": {
        "colab": {
          "base_uri": "https://localhost:8080/"
        },
        "id": "KMyEGApfOvp_",
        "outputId": "de999b10-7031-44f3-c0e1-19e3d19c1481"
      },
      "execution_count": 7,
      "outputs": [
        {
          "output_type": "stream",
          "name": "stdout",
          "text": [
            "('Dead Can Dance', \"The Serpen't Egg\", '1988')\n",
            "('SIA', 'Everyday Is Christmas', '2017')\n"
          ]
        }
      ]
    },
    {
      "cell_type": "markdown",
      "source": [
        "## Добавляем наглядность с помощью pandas"
      ],
      "metadata": {
        "id": "yspXyLBHQZvT"
      }
    },
    {
      "cell_type": "code",
      "source": [
        "import pandas as pd"
      ],
      "metadata": {
        "id": "fVFoqPvTO1fh"
      },
      "execution_count": 8,
      "outputs": []
    },
    {
      "cell_type": "code",
      "source": [
        "conn = sqlite3.connect(path)\n",
        "cursor = conn.cursor()\n",
        "\n",
        "sql  = \"SELECT artist, title, release_date from albums\"\n",
        "cursor.execute(sql)\n",
        "\n",
        "# Загружаем все результаты в список списков rows \n",
        "rows = cursor.fetchall()\n",
        "cursor.close()\n",
        "conn.close()\n"
      ],
      "metadata": {
        "id": "BqG_dtWXO5uT"
      },
      "execution_count": 9,
      "outputs": []
    },
    {
      "cell_type": "code",
      "source": [
        "pd.DataFrame( rows, columns=('Исполнитель', 'Альбом', 'Год') )"
      ],
      "metadata": {
        "colab": {
          "base_uri": "https://localhost:8080/",
          "height": 112
        },
        "id": "B159LyEGPCbo",
        "outputId": "cf99f44b-aa43-4120-8e6b-e9e6c270ca65"
      },
      "execution_count": 10,
      "outputs": [
        {
          "output_type": "execute_result",
          "data": {
            "text/plain": [
              "      Исполнитель                 Альбом   Год\n",
              "0  Dead Can Dance       The Serpen't Egg  1988\n",
              "1             SIA  Everyday Is Christmas  2017"
            ],
            "text/html": [
              "\n",
              "  <div id=\"df-34ea5b87-e3d5-488f-b271-54414f793840\">\n",
              "    <div class=\"colab-df-container\">\n",
              "      <div>\n",
              "<style scoped>\n",
              "    .dataframe tbody tr th:only-of-type {\n",
              "        vertical-align: middle;\n",
              "    }\n",
              "\n",
              "    .dataframe tbody tr th {\n",
              "        vertical-align: top;\n",
              "    }\n",
              "\n",
              "    .dataframe thead th {\n",
              "        text-align: right;\n",
              "    }\n",
              "</style>\n",
              "<table border=\"1\" class=\"dataframe\">\n",
              "  <thead>\n",
              "    <tr style=\"text-align: right;\">\n",
              "      <th></th>\n",
              "      <th>Исполнитель</th>\n",
              "      <th>Альбом</th>\n",
              "      <th>Год</th>\n",
              "    </tr>\n",
              "  </thead>\n",
              "  <tbody>\n",
              "    <tr>\n",
              "      <th>0</th>\n",
              "      <td>Dead Can Dance</td>\n",
              "      <td>The Serpen't Egg</td>\n",
              "      <td>1988</td>\n",
              "    </tr>\n",
              "    <tr>\n",
              "      <th>1</th>\n",
              "      <td>SIA</td>\n",
              "      <td>Everyday Is Christmas</td>\n",
              "      <td>2017</td>\n",
              "    </tr>\n",
              "  </tbody>\n",
              "</table>\n",
              "</div>\n",
              "      <button class=\"colab-df-convert\" onclick=\"convertToInteractive('df-34ea5b87-e3d5-488f-b271-54414f793840')\"\n",
              "              title=\"Convert this dataframe to an interactive table.\"\n",
              "              style=\"display:none;\">\n",
              "        \n",
              "  <svg xmlns=\"http://www.w3.org/2000/svg\" height=\"24px\"viewBox=\"0 0 24 24\"\n",
              "       width=\"24px\">\n",
              "    <path d=\"M0 0h24v24H0V0z\" fill=\"none\"/>\n",
              "    <path d=\"M18.56 5.44l.94 2.06.94-2.06 2.06-.94-2.06-.94-.94-2.06-.94 2.06-2.06.94zm-11 1L8.5 8.5l.94-2.06 2.06-.94-2.06-.94L8.5 2.5l-.94 2.06-2.06.94zm10 10l.94 2.06.94-2.06 2.06-.94-2.06-.94-.94-2.06-.94 2.06-2.06.94z\"/><path d=\"M17.41 7.96l-1.37-1.37c-.4-.4-.92-.59-1.43-.59-.52 0-1.04.2-1.43.59L10.3 9.45l-7.72 7.72c-.78.78-.78 2.05 0 2.83L4 21.41c.39.39.9.59 1.41.59.51 0 1.02-.2 1.41-.59l7.78-7.78 2.81-2.81c.8-.78.8-2.07 0-2.86zM5.41 20L4 18.59l7.72-7.72 1.47 1.35L5.41 20z\"/>\n",
              "  </svg>\n",
              "      </button>\n",
              "      \n",
              "  <style>\n",
              "    .colab-df-container {\n",
              "      display:flex;\n",
              "      flex-wrap:wrap;\n",
              "      gap: 12px;\n",
              "    }\n",
              "\n",
              "    .colab-df-convert {\n",
              "      background-color: #E8F0FE;\n",
              "      border: none;\n",
              "      border-radius: 50%;\n",
              "      cursor: pointer;\n",
              "      display: none;\n",
              "      fill: #1967D2;\n",
              "      height: 32px;\n",
              "      padding: 0 0 0 0;\n",
              "      width: 32px;\n",
              "    }\n",
              "\n",
              "    .colab-df-convert:hover {\n",
              "      background-color: #E2EBFA;\n",
              "      box-shadow: 0px 1px 2px rgba(60, 64, 67, 0.3), 0px 1px 3px 1px rgba(60, 64, 67, 0.15);\n",
              "      fill: #174EA6;\n",
              "    }\n",
              "\n",
              "    [theme=dark] .colab-df-convert {\n",
              "      background-color: #3B4455;\n",
              "      fill: #D2E3FC;\n",
              "    }\n",
              "\n",
              "    [theme=dark] .colab-df-convert:hover {\n",
              "      background-color: #434B5C;\n",
              "      box-shadow: 0px 1px 3px 1px rgba(0, 0, 0, 0.15);\n",
              "      filter: drop-shadow(0px 1px 2px rgba(0, 0, 0, 0.3));\n",
              "      fill: #FFFFFF;\n",
              "    }\n",
              "  </style>\n",
              "\n",
              "      <script>\n",
              "        const buttonEl =\n",
              "          document.querySelector('#df-34ea5b87-e3d5-488f-b271-54414f793840 button.colab-df-convert');\n",
              "        buttonEl.style.display =\n",
              "          google.colab.kernel.accessAllowed ? 'block' : 'none';\n",
              "\n",
              "        async function convertToInteractive(key) {\n",
              "          const element = document.querySelector('#df-34ea5b87-e3d5-488f-b271-54414f793840');\n",
              "          const dataTable =\n",
              "            await google.colab.kernel.invokeFunction('convertToInteractive',\n",
              "                                                     [key], {});\n",
              "          if (!dataTable) return;\n",
              "\n",
              "          const docLinkHtml = 'Like what you see? Visit the ' +\n",
              "            '<a target=\"_blank\" href=https://colab.research.google.com/notebooks/data_table.ipynb>data table notebook</a>'\n",
              "            + ' to learn more about interactive tables.';\n",
              "          element.innerHTML = '';\n",
              "          dataTable['output_type'] = 'display_data';\n",
              "          await google.colab.output.renderOutput(dataTable, element);\n",
              "          const docLink = document.createElement('div');\n",
              "          docLink.innerHTML = docLinkHtml;\n",
              "          element.appendChild(docLink);\n",
              "        }\n",
              "      </script>\n",
              "    </div>\n",
              "  </div>\n",
              "  "
            ]
          },
          "metadata": {},
          "execution_count": 10
        }
      ]
    },
    {
      "cell_type": "code",
      "source": [
        ""
      ],
      "metadata": {
        "id": "re5C9fS3PZ2I"
      },
      "execution_count": null,
      "outputs": []
    }
  ]
}